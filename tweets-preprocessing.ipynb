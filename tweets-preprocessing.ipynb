{
 "cells": [
  {
   "cell_type": "code",
   "execution_count": 1,
   "metadata": {},
   "outputs": [],
   "source": [
    "import pandas as pd\n",
    "import numpy as np\n",
    "import re\n",
    "import emoji"
   ]
  },
  {
   "cell_type": "code",
   "execution_count": 5,
   "metadata": {},
   "outputs": [],
   "source": [
    "def remove_emoji(text):\n",
    "    return emoji.get_emoji_regexp().sub(u'', text)\n",
    "\n",
    "URL = re.compile('((([A-Za-z]{3,9}:(?:\\/\\/)?)(?:[\\-;:&=\\+\\$,\\w]+@)?[A-Za-z0-9\\.\\-]+|(?:www\\.|[\\-;:&=\\+\\$,\\w]+@)[A-Za-z0-9\\.\\-]+)((?:\\/[\\+~%\\/\\.\\w\\-_]*)?\\??(?:[\\-\\+=&;%@\\.\\w_]*)#?(?:[\\.\\!\\/\\\\\\w]*))?)')\n",
    "\n",
    "def preprocess_word(word):\n",
    "    # Remove punctuation\n",
    "    word = word.strip('\\'\"?!,.():;')\n",
    "    # Convert more than 2 letter repetitions to 2 letter\n",
    "    # funnnnny --> funny\n",
    "    word = re.sub(r'(.)\\1+', r'\\1\\1', word)\n",
    "    # Remove - & '\n",
    "    word = re.sub(r'(-|\\')', '', word)\n",
    "    return word\n",
    "\n",
    "def pre_process(tweet, keep_hashtag = False, keep_special_symbols = False, lower_case = False):\n",
    "\n",
    "# Replaces URLs with the word URL\n",
    "    tweet = re.sub(URL, '', tweet)\n",
    "# Replace @handle with the word USER_MENTION\n",
    "#     tweet = re.sub(r'@[\\S]+', 'USER_MENTION', tweet)\n",
    "    tweet = re.sub(r'@[\\S]+', '', tweet)\n",
    "# Replaces #hashtag with hashtag\n",
    "    if keep_hashtag:\n",
    "        tweet = re.sub(r'#(\\S+)', r' \\1 ', tweet)\n",
    "    else:\n",
    "        tweet = re.sub(r'#(\\S+)', '', tweet)\n",
    "# Remove RT (retweet)\n",
    "    tweet = re.sub(r'\\brt\\b', '', tweet)\n",
    "# Remove emoji with the word EMOJI\n",
    "#     tweet = re.sub(EMOJIS, '', tweet)\n",
    "    tweet = remove_emoji(tweet)\n",
    "# Add spacs into camel case sentences\n",
    "    tweet = re.sub('([A-Z][a-z]+)', r' \\1', re.sub('([A-Z]+)', r'\\1', tweet))\n",
    "# Replace 2+ dots with space\n",
    "    tweet = re.sub(r'\\.{2,}', ' ', tweet)\n",
    "# Strip space, \" and ' from tweet\n",
    "    tweet = tweet.strip(' \"\\'')\n",
    "# Replace multiple spaces with a single space\n",
    "    tweet = re.sub(r'\\s+', ' ', tweet)\n",
    "# # Convert to lower case\n",
    "    if lower_case:\n",
    "        tweet = tweet.lower()\n",
    "        \n",
    "        \n",
    "    if keep_special_symbols is False: \n",
    "        words = tweet.split()\n",
    "        processed_tweet = []\n",
    "        for word in words:\n",
    "            word = preprocess_word(word)\n",
    "            processed_tweet.append(word)\n",
    "\n",
    "        return ' '.join(processed_tweet)\n",
    "    else:\n",
    "        return tweet"
   ]
  },
  {
   "cell_type": "code",
   "execution_count": 3,
   "metadata": {},
   "outputs": [],
   "source": [
    "df_news_tweets = pd.read_pickle('news_tweets_english.pkl')"
   ]
  },
  {
   "cell_type": "code",
   "execution_count": 7,
   "metadata": {},
   "outputs": [],
   "source": [
    "clean_text = []  # text for summarization\n",
    "processed_text = [] # text for embedding and clustering\n",
    "processed_text_lower_case = []\n",
    "for index, row in df_news_tweets.iterrows():\n",
    "    clean_text.append(pre_process(row['tweet_text'], keep_hashtag = True, keep_special_symbols = True))\n",
    "    processed_text.append(pre_process(row['tweet_text']))\n",
    "    processed_text_lower_case.append(pre_process(row['tweet_text'], lower_case = True))\n",
    "\n",
    "df_news_tweets['clean_text'] = clean_text\n",
    "df_news_tweets['processed_text'] = processed_text\n",
    "df_news_tweets['processed_text_lower_case'] = processed_text_lower_case"
   ]
  },
  {
   "cell_type": "markdown",
   "metadata": {},
   "source": [
    "### Obtain news summary\n",
    "\n",
    "The dataset has two candidate for news summary: claims and statements. Based on observation, claim is more suitable than statememts, as most news pieces have empty statements, and those that are not empty are shorter than claims."
   ]
  },
  {
   "cell_type": "code",
   "execution_count": 10,
   "metadata": {},
   "outputs": [],
   "source": [
    "news_summary = []\n",
    "for index, row in df_news_tweets.iterrows():\n",
    "    if pd.isna(row['claim']) :\n",
    "        news_summary.append(row['statement'])\n",
    "    else:\n",
    "        claim = re.sub(r'\\s+', ' ', row['claim'])\n",
    "        if claim == ' ':\n",
    "            news_summary.append(row['statement'])\n",
    "        else:\n",
    "            news_summary.append(row['claim'])"
   ]
  },
  {
   "cell_type": "code",
   "execution_count": 11,
   "metadata": {},
   "outputs": [],
   "source": [
    "df_news_tweets['news_summary'] = news_summary"
   ]
  },
  {
   "cell_type": "markdown",
   "metadata": {},
   "source": [
    "### Remove less revelant tweets based on bertscore"
   ]
  },
  {
   "cell_type": "code",
   "execution_count": 8,
   "metadata": {},
   "outputs": [],
   "source": [
    "from datasets import load_metric\n",
    "# import bert_score\n",
    "metric = load_metric(\"bertscore\")"
   ]
  },
  {
   "cell_type": "code",
   "execution_count": 12,
   "metadata": {},
   "outputs": [],
   "source": [
    "results = metric.compute(predictions=df_news_tweets['processed_text'].tolist(), references=df_news_tweets['news_summary'].tolist(), lang='en', rescale_with_baseline=True)"
   ]
  },
  {
   "cell_type": "code",
   "execution_count": 13,
   "metadata": {},
   "outputs": [],
   "source": [
    "df_news_tweets['bertscore'] = results['f1']"
   ]
  },
  {
   "cell_type": "code",
   "execution_count": 21,
   "metadata": {},
   "outputs": [],
   "source": [
    "df_news_tweets.to_pickle('news_tweets_preprocessed_en.pkl')"
   ]
  },
  {
   "cell_type": "code",
   "execution_count": 14,
   "metadata": {},
   "outputs": [],
   "source": [
    "df_filtered = df_news_tweets[df_news_tweets['bertscore']>=0.1] # relevence threshold is 0.1"
   ]
  },
  {
   "cell_type": "code",
   "execution_count": 15,
   "metadata": {},
   "outputs": [
    {
     "data": {
      "text/plain": [
       "28947"
      ]
     },
     "execution_count": 15,
     "metadata": {},
     "output_type": "execute_result"
    }
   ],
   "source": [
    "len(df_filtered)"
   ]
  },
  {
   "cell_type": "markdown",
   "metadata": {},
   "source": [
    "### Remove short tweets (shorter than 5 words)"
   ]
  },
  {
   "cell_type": "code",
   "execution_count": 17,
   "metadata": {},
   "outputs": [],
   "source": [
    "from nltk import word_tokenize"
   ]
  },
  {
   "cell_type": "code",
   "execution_count": 18,
   "metadata": {},
   "outputs": [
    {
     "name": "stderr",
     "output_type": "stream",
     "text": [
      "/root/miniconda3/lib/python3.7/site-packages/ipykernel_launcher.py:1: SettingWithCopyWarning: \n",
      "A value is trying to be set on a copy of a slice from a DataFrame.\n",
      "Try using .loc[row_indexer,col_indexer] = value instead\n",
      "\n",
      "See the caveats in the documentation: https://pandas.pydata.org/pandas-docs/stable/user_guide/indexing.html#returning-a-view-versus-a-copy\n",
      "  \"\"\"Entry point for launching an IPython kernel.\n"
     ]
    }
   ],
   "source": [
    "df_filtered['totalwords'] = [len(word_tokenize(x)) for x in df_filtered['processed_text'].tolist()]"
   ]
  },
  {
   "cell_type": "code",
   "execution_count": 19,
   "metadata": {},
   "outputs": [
    {
     "name": "stderr",
     "output_type": "stream",
     "text": [
      "/root/miniconda3/lib/python3.7/site-packages/pandas/core/frame.py:4315: SettingWithCopyWarning: \n",
      "A value is trying to be set on a copy of a slice from a DataFrame\n",
      "\n",
      "See the caveats in the documentation: https://pandas.pydata.org/pandas-docs/stable/user_guide/indexing.html#returning-a-view-versus-a-copy\n",
      "  errors=errors,\n"
     ]
    }
   ],
   "source": [
    "df_filtered.drop(df_filtered[df_filtered.totalwords < 5].index, inplace=True)"
   ]
  },
  {
   "cell_type": "code",
   "execution_count": 20,
   "metadata": {},
   "outputs": [
    {
     "data": {
      "text/plain": [
       "28818"
      ]
     },
     "execution_count": 20,
     "metadata": {},
     "output_type": "execute_result"
    }
   ],
   "source": [
    "len(df_filtered)"
   ]
  },
  {
   "cell_type": "code",
   "execution_count": 22,
   "metadata": {},
   "outputs": [],
   "source": [
    "df_filtered.to_pickle('news_tweets_filtered_en.pkl')"
   ]
  }
 ],
 "metadata": {
  "kernelspec": {
   "display_name": "Python 3",
   "language": "python",
   "name": "python3"
  },
  "language_info": {
   "codemirror_mode": {
    "name": "ipython",
    "version": 3
   },
   "file_extension": ".py",
   "mimetype": "text/x-python",
   "name": "python",
   "nbconvert_exporter": "python",
   "pygments_lexer": "ipython3",
   "version": "3.7.7"
  }
 },
 "nbformat": 4,
 "nbformat_minor": 4
}
